{
  "nbformat": 4,
  "nbformat_minor": 0,
  "metadata": {
    "colab": {
      "name": " Exercise2_DogvsCat_CNN.ipynb",
      "provenance": [],
      "collapsed_sections": [],
      "include_colab_link": true
    },
    "kernelspec": {
      "name": "python3",
      "display_name": "Python 3"
    },
    "accelerator": "GPU"
  },
  "cells": [
    {
      "cell_type": "markdown",
      "metadata": {
        "id": "view-in-github",
        "colab_type": "text"
      },
      "source": [
        "<a href=\"https://colab.research.google.com/github/soham-wairkar/CE888/blob/main/LAB7/Exercise2_DogvsCat_CNN.ipynb\" target=\"_parent\"><img src=\"https://colab.research.google.com/assets/colab-badge.svg\" alt=\"Open In Colab\"/></a>"
      ]
    },
    {
      "cell_type": "markdown",
      "metadata": {
        "id": "qTh9DiKVslsJ"
      },
      "source": [
        "## Dogs vs. Cats \n",
        "\n",
        "In this competition, you'll write an algorithm to classify whether images contain either a dog or a cat.  This is easy for humans, dogs, and cats. Your computer will find it a bit more difficult.\n",
        "\n",
        "![alt text](https://miro.medium.com/max/3000/1*bhFifratH9DjKqMBTeQG5A.gif)\n",
        "\n",
        "Ref: https://medium.com/@thegrigorian/rolling-in-the-deep-cnn-c8d3f7108c8c"
      ]
    },
    {
      "cell_type": "markdown",
      "metadata": {
        "id": "RSBI-_mSSY1g"
      },
      "source": [
        "Get your API Key from Kaggle using following steps:\n",
        "1. Login to [Kaggle](https://www.kaggle.com/) or Register if you don't have account\n",
        "2. Open Dataset (https://www.kaggle.com/c/dogs-vs-cats/rules) and accept terms and condition. \n",
        "3. On the top right corner click on your Icon and go to accounts and press a button \"Create New API Token\". It will download a JSON file containing your username and key. \n",
        "4. Now, paste both below. \n"
      ]
    },
    {
      "cell_type": "code",
      "metadata": {
        "colab": {
          "base_uri": "https://localhost:8080/"
        },
        "id": "PmYjhhfMuUVR",
        "outputId": "43270a79-0908-4a97-c9e1-55121b8bc29a"
      },
      "source": [
        "!kaggle -v"
      ],
      "execution_count": 42,
      "outputs": [
        {
          "output_type": "stream",
          "text": [
            "Kaggle API 1.5.4\n"
          ],
          "name": "stdout"
        }
      ]
    },
    {
      "cell_type": "code",
      "metadata": {
        "id": "YmXSOc0tZIGA",
        "colab": {
          "base_uri": "https://localhost:8080/"
        },
        "outputId": "939b87f0-93ea-4e04-9ec6-2b0fe861e640"
      },
      "source": [
        "import os\n",
        "os.environ['KAGGLE_USERNAME'] = \"sohamwairkar\" # username from the json file\n",
        "os.environ['KAGGLE_KEY'] = \"33ac06afea33a7677c956b4e173da4a0\" # key from the json file\n",
        "!kaggle competitions download -c dogs-vs-cats # api copied from kaggle (https://www.kaggle.com/c/dogs-vs-cats/data)"
      ],
      "execution_count": 43,
      "outputs": [
        {
          "output_type": "stream",
          "text": [
            "Warning: Looks like you're using an outdated API Version, please consider updating (server 1.5.12 / client 1.5.4)\n",
            "test1.zip: Skipping, found more recently modified local copy (use --force to force download)\n",
            "train.zip: Skipping, found more recently modified local copy (use --force to force download)\n",
            "sampleSubmission.csv: Skipping, found more recently modified local copy (use --force to force download)\n"
          ],
          "name": "stdout"
        }
      ]
    },
    {
      "cell_type": "code",
      "metadata": {
        "id": "PiwIL8d1n7eS",
        "colab": {
          "base_uri": "https://localhost:8080/"
        },
        "outputId": "19408409-7531-4a25-92f2-a4ca29cbcca3"
      },
      "source": [
        "# Unzip training data\n",
        "from zipfile import ZipFile\n",
        "file_name = \"/content/train.zip\"\n",
        "with ZipFile(file_name, 'r') as zip:\n",
        "  zip.extractall()\n",
        "  print('done')"
      ],
      "execution_count": 44,
      "outputs": [
        {
          "output_type": "stream",
          "text": [
            "done\n"
          ],
          "name": "stdout"
        }
      ]
    },
    {
      "cell_type": "code",
      "metadata": {
        "id": "sa2Bj5i7pPKV",
        "colab": {
          "base_uri": "https://localhost:8080/"
        },
        "outputId": "29c4e092-cb46-46f9-dcbf-0f9344e74c1a"
      },
      "source": [
        "# Get all the paths\n",
        "data_dir_list = os.listdir('/content/train')\n",
        "#print(data_dir_list)\n",
        "path, dirs, files = next(os.walk(\"/content/train\"))\n",
        "file_count = len(files)\n",
        "print(file_count)"
      ],
      "execution_count": 45,
      "outputs": [
        {
          "output_type": "stream",
          "text": [
            "25000\n"
          ],
          "name": "stdout"
        }
      ]
    },
    {
      "cell_type": "code",
      "metadata": {
        "id": "0ERlHkfHqpK8"
      },
      "source": [
        "# Make new base directory\n",
        "original_dataset_dir = '/content/train'\n",
        "base_dir = '/content/cats_and_dogs_small'\n",
        "#os.mkdir(base_dir)"
      ],
      "execution_count": 46,
      "outputs": []
    },
    {
      "cell_type": "code",
      "metadata": {
        "id": "AANB1UJ6rQhM"
      },
      "source": [
        "train_dir = os.path.join(base_dir, 'train')\n",
        "#os.mkdir(train_dir)\n",
        "\n",
        "validation_dir = os.path.join(base_dir, 'validation')\n",
        "#os.mkdir(validation_dir)\n",
        "\n",
        "test_dir = os.path.join(base_dir, 'test')\n",
        "#os.mkdir(test_dir)\n",
        "\n",
        "train_cats_dir = os.path.join(train_dir, 'cats')\n",
        "#os.mkdir(train_cats_dir)\n",
        "\n",
        "train_dogs_dir = os.path.join(train_dir, 'dogs')\n",
        "#os.mkdir(train_dogs_dir)\n",
        "\n",
        "validation_cats_dir = os.path.join(validation_dir, 'cats')\n",
        "#os.mkdir(validation_cats_dir)\n",
        "\n",
        "validation_dogs_dir = os.path.join(validation_dir, 'dogs')\n",
        "#os.mkdir(validation_dogs_dir)\n",
        "\n",
        "test_cats_dir = os.path.join(test_dir, 'cats')\n",
        "#os.mkdir(test_cats_dir)\n",
        "\n",
        "test_dogs_dir = os.path.join(test_dir, 'dogs')\n",
        "#os.mkdir(test_dogs_dir)"
      ],
      "execution_count": 47,
      "outputs": []
    },
    {
      "cell_type": "code",
      "metadata": {
        "id": "ULRgL9s9rV8T"
      },
      "source": [
        "import shutil\n",
        "fnames = ['cat.{}.jpg'.format(i) for i in range(1000)]\n",
        "for fname in fnames:\n",
        "    src = os.path.join(original_dataset_dir, fname)\n",
        "    dst = os.path.join(train_cats_dir, fname)\n",
        "    #print(src,dst)\n",
        "    shutil.copyfile(src, dst)\n",
        "    \n",
        "fnames = ['cat.{}.jpg'.format(i) for i in range(1000, 1500)]\n",
        "for fname in fnames:\n",
        "    src = os.path.join(original_dataset_dir, fname)\n",
        "    dst = os.path.join(validation_cats_dir, fname)\n",
        "    shutil.copyfile(src, dst)\n",
        "\n",
        "fnames = ['cat.{}.jpg'.format(i) for i in range(1500, 2000)]\n",
        "for fname in fnames:\n",
        "    src = os.path.join(original_dataset_dir, fname)\n",
        "    dst = os.path.join(test_cats_dir, fname)\n",
        "    shutil.copyfile(src, dst)\n",
        "    \n",
        "fnames = ['dog.{}.jpg'.format(i) for i in range(1000)]\n",
        "for fname in fnames:\n",
        "    src = os.path.join(original_dataset_dir, fname)\n",
        "    dst = os.path.join(train_dogs_dir, fname)\n",
        "    shutil.copyfile(src, dst)\n",
        "\n",
        "fnames = ['dog.{}.jpg'.format(i) for i in range(1000, 1500)]\n",
        "for fname in fnames:\n",
        "    src = os.path.join(original_dataset_dir, fname)\n",
        "    dst = os.path.join(validation_dogs_dir, fname)\n",
        "    shutil.copyfile(src, dst)\n",
        "\n",
        "fnames = ['dog.{}.jpg'.format(i) for i in range(1500, 2000)]\n",
        "for fname in fnames:\n",
        "    src = os.path.join(original_dataset_dir, fname)\n",
        "    dst = os.path.join(test_dogs_dir, fname)\n",
        "    shutil.copyfile(src, dst)"
      ],
      "execution_count": 48,
      "outputs": []
    },
    {
      "cell_type": "code",
      "metadata": {
        "id": "ul3XAbIyr7vC",
        "colab": {
          "base_uri": "https://localhost:8080/"
        },
        "outputId": "57d664a6-56ba-4cb3-8c03-b93b840fb07a"
      },
      "source": [
        "print('total training cat images:', len(os.listdir(train_cats_dir)))\n",
        "print('total training dog images:', len(os.listdir(train_dogs_dir)))\n",
        "print('total validation cat images:', len(os.listdir(validation_cats_dir)))\n",
        "\n",
        "print('total validation dog images:', len(os.listdir(validation_dogs_dir)))\n",
        "print('total test cat images:', len(os.listdir(test_cats_dir)))\n",
        "print('total test dog images:', len(os.listdir(test_dogs_dir)))"
      ],
      "execution_count": 49,
      "outputs": [
        {
          "output_type": "stream",
          "text": [
            "total training cat images: 1000\n",
            "total training dog images: 1000\n",
            "total validation cat images: 500\n",
            "total validation dog images: 500\n",
            "total test cat images: 500\n",
            "total test dog images: 500\n"
          ],
          "name": "stdout"
        }
      ]
    },
    {
      "cell_type": "code",
      "metadata": {
        "id": "o9yTA21_r-ma",
        "colab": {
          "base_uri": "https://localhost:8080/"
        },
        "outputId": "33602e04-4b4c-4c20-94e8-9b33097e2123"
      },
      "source": [
        "from keras import layers\n",
        "from keras import models\n",
        "\n",
        "model = models.Sequential()\n",
        "model.add(layers.Conv2D(32, (3, 3), activation='relu', input_shape=(150, 150, 3)))\n",
        "model.add(layers.MaxPooling2D((2, 2)))\n",
        "model.add(layers.Conv2D(64, (3, 3), activation='relu'))\n",
        "model.add(layers.MaxPooling2D((2, 2)))\n",
        "model.add(layers.Conv2D(128, (3, 3), activation='relu'))\n",
        "model.add(layers.MaxPooling2D((2, 2)))\n",
        "model.add(layers.Conv2D(128, (3, 3), activation='relu'))\n",
        "model.add(layers.MaxPooling2D((2, 2)))\n",
        "model.add(layers.Flatten())\n",
        "model.add(layers.Dense(512, activation='relu'))\n",
        "model.add(layers.Dense(1, activation='sigmoid'))\n",
        "model.summary()"
      ],
      "execution_count": 50,
      "outputs": [
        {
          "output_type": "stream",
          "text": [
            "Model: \"sequential_3\"\n",
            "_________________________________________________________________\n",
            "Layer (type)                 Output Shape              Param #   \n",
            "=================================================================\n",
            "conv2d_12 (Conv2D)           (None, 148, 148, 32)      896       \n",
            "_________________________________________________________________\n",
            "max_pooling2d_12 (MaxPooling (None, 74, 74, 32)        0         \n",
            "_________________________________________________________________\n",
            "conv2d_13 (Conv2D)           (None, 72, 72, 64)        18496     \n",
            "_________________________________________________________________\n",
            "max_pooling2d_13 (MaxPooling (None, 36, 36, 64)        0         \n",
            "_________________________________________________________________\n",
            "conv2d_14 (Conv2D)           (None, 34, 34, 128)       73856     \n",
            "_________________________________________________________________\n",
            "max_pooling2d_14 (MaxPooling (None, 17, 17, 128)       0         \n",
            "_________________________________________________________________\n",
            "conv2d_15 (Conv2D)           (None, 15, 15, 128)       147584    \n",
            "_________________________________________________________________\n",
            "max_pooling2d_15 (MaxPooling (None, 7, 7, 128)         0         \n",
            "_________________________________________________________________\n",
            "flatten_3 (Flatten)          (None, 6272)              0         \n",
            "_________________________________________________________________\n",
            "dense_6 (Dense)              (None, 512)               3211776   \n",
            "_________________________________________________________________\n",
            "dense_7 (Dense)              (None, 1)                 513       \n",
            "=================================================================\n",
            "Total params: 3,453,121\n",
            "Trainable params: 3,453,121\n",
            "Non-trainable params: 0\n",
            "_________________________________________________________________\n"
          ],
          "name": "stdout"
        }
      ]
    },
    {
      "cell_type": "code",
      "metadata": {
        "id": "2mG8wekxsBVS"
      },
      "source": [
        "from keras import optimizers\n",
        "model.compile(loss='binary_crossentropy', \n",
        "              optimizer=optimizers.RMSprop(lr=1e-4),\n",
        "              metrics=['acc'])"
      ],
      "execution_count": 51,
      "outputs": []
    },
    {
      "cell_type": "markdown",
      "metadata": {
        "id": "7zS4Klm8qWp6"
      },
      "source": [
        "## Using ImageDataGenerator to read images from directories\n",
        "As you know by now, data should be formatted into appropriately preprocessed floatingpoint tensors before being fed into the network. Currently, the data sits on a drive as JPEG files, so the steps for getting it into the network are roughly as follows:\n",
        "\n",
        "* Read the picture files.\n",
        "* Decode the JPEG content to RGB grids of pixels.\n",
        "* Convert these into floating-point tensors.\n",
        "* Rescale the pixel values (between 0 and 255) to the [0, 1] interval (as you know, neural networks prefer to deal with small input values).\n",
        "\n",
        "It may seem a bit daunting, but fortunately Keras has utilities to take care of these steps automatically. Keras has a module with image-processing helper tools, located at keras.preprocessing.image. In particular, it contains the class ImageDataGenerator,which lets you quickly set up Python generators that can automatically turn image files on disk into batches of preprocessed tensors."
      ]
    },
    {
      "cell_type": "code",
      "metadata": {
        "id": "XJ7XU7t9sEh6",
        "colab": {
          "base_uri": "https://localhost:8080/"
        },
        "outputId": "1cd7d210-5e0f-4393-a1ff-619659ad2411"
      },
      "source": [
        "from keras.preprocessing.image import ImageDataGenerator\n",
        "\n",
        "train_datagen = ImageDataGenerator(rescale=1./255)\n",
        "test_datagen = ImageDataGenerator(rescale=1./255)\n",
        "\n",
        "train_generator = train_datagen.flow_from_directory(train_dir,\n",
        "                                                    target_size=(150, 150), \n",
        "                                                    batch_size=20,\n",
        "                                                    class_mode='binary')\n",
        "\n",
        "validation_generator = test_datagen.flow_from_directory(validation_dir,\n",
        "                                                        target_size=(150, 150),\n",
        "                                                        batch_size=20,\n",
        "                                                        class_mode='binary')"
      ],
      "execution_count": 52,
      "outputs": [
        {
          "output_type": "stream",
          "text": [
            "Found 2000 images belonging to 2 classes.\n",
            "Found 1000 images belonging to 2 classes.\n"
          ],
          "name": "stdout"
        }
      ]
    },
    {
      "cell_type": "markdown",
      "metadata": {
        "id": "SEgLywySqm4u"
      },
      "source": [
        "Let’s fit the model to the data using the generator. You do so using the fit_generator method, the equivalent of fit for data generators like this one. It expects as its first argument a Python generator that will yield batches of inputs and targets indefinitely,like this one does. Because the data is being generated endlessly, the Keras model needs to know how many samples to draw from the generator before declaring anepoch over. This is the role of the `steps_per_epoch` argument: after having drawn `steps_per_epoch` batches from the generator—that is, after having run for `steps_per_epoch` gradient descent steps—the fitting process will go to the next epoch. In this case, batches are 20 samples, so it will take 100 batches until you see your target of 2,000 samples.\n",
        "\n",
        "When using fit_generator, you can pass a validation_data argument, much as with the fit method. It’s important to note that this argument is allowed to be a data generator, but it could also be a tuple of Numpy arrays. If you pass a generator as validation_data, then this generator is expected to yield batches of validation data endlessly; thus you should also specify the validation_steps argument, which tells the process how many batches to draw from the validation generator for evaluation."
      ]
    },
    {
      "cell_type": "code",
      "metadata": {
        "id": "yMyfPphJsJG6",
        "colab": {
          "base_uri": "https://localhost:8080/"
        },
        "outputId": "9249e159-69e7-417a-8c6a-fc02043f9829"
      },
      "source": [
        "history = model.fit_generator(train_generator,\n",
        "                              steps_per_epoch=100,\n",
        "                              epochs=30,\n",
        "                              validation_data=validation_generator,\n",
        "                              validation_steps=10)"
      ],
      "execution_count": 53,
      "outputs": [
        {
          "output_type": "stream",
          "text": [
            "/usr/local/lib/python3.7/dist-packages/tensorflow/python/keras/engine/training.py:1844: UserWarning: `Model.fit_generator` is deprecated and will be removed in a future version. Please use `Model.fit`, which supports generators.\n",
            "  warnings.warn('`Model.fit_generator` is deprecated and '\n"
          ],
          "name": "stderr"
        },
        {
          "output_type": "stream",
          "text": [
            "Epoch 1/30\n",
            "100/100 [==============================] - 10s 92ms/step - loss: 0.7030 - acc: 0.5017 - val_loss: 0.6877 - val_acc: 0.4700\n",
            "Epoch 2/30\n",
            "100/100 [==============================] - 9s 88ms/step - loss: 0.6791 - acc: 0.5826 - val_loss: 0.7142 - val_acc: 0.4850\n",
            "Epoch 3/30\n",
            "100/100 [==============================] - 9s 88ms/step - loss: 0.6293 - acc: 0.6547 - val_loss: 0.6264 - val_acc: 0.6500\n",
            "Epoch 4/30\n",
            "100/100 [==============================] - 9s 88ms/step - loss: 0.5836 - acc: 0.7042 - val_loss: 0.6438 - val_acc: 0.6250\n",
            "Epoch 5/30\n",
            "100/100 [==============================] - 9s 87ms/step - loss: 0.5411 - acc: 0.7126 - val_loss: 0.6648 - val_acc: 0.6050\n",
            "Epoch 6/30\n",
            "100/100 [==============================] - 9s 87ms/step - loss: 0.5403 - acc: 0.7170 - val_loss: 0.5936 - val_acc: 0.6750\n",
            "Epoch 7/30\n",
            "100/100 [==============================] - 9s 87ms/step - loss: 0.4925 - acc: 0.7548 - val_loss: 0.6244 - val_acc: 0.6500\n",
            "Epoch 8/30\n",
            "100/100 [==============================] - 9s 86ms/step - loss: 0.4856 - acc: 0.7546 - val_loss: 0.4952 - val_acc: 0.7500\n",
            "Epoch 9/30\n",
            "100/100 [==============================] - 9s 87ms/step - loss: 0.4540 - acc: 0.7970 - val_loss: 0.6171 - val_acc: 0.6800\n",
            "Epoch 10/30\n",
            "100/100 [==============================] - 9s 87ms/step - loss: 0.4444 - acc: 0.7922 - val_loss: 0.5552 - val_acc: 0.7400\n",
            "Epoch 11/30\n",
            "100/100 [==============================] - 9s 87ms/step - loss: 0.3985 - acc: 0.8300 - val_loss: 0.5790 - val_acc: 0.7200\n",
            "Epoch 12/30\n",
            "100/100 [==============================] - 9s 87ms/step - loss: 0.3616 - acc: 0.8390 - val_loss: 0.5169 - val_acc: 0.7150\n",
            "Epoch 13/30\n",
            "100/100 [==============================] - 9s 87ms/step - loss: 0.3524 - acc: 0.8496 - val_loss: 0.6139 - val_acc: 0.7350\n",
            "Epoch 14/30\n",
            "100/100 [==============================] - 9s 87ms/step - loss: 0.3306 - acc: 0.8608 - val_loss: 0.5867 - val_acc: 0.7150\n",
            "Epoch 15/30\n",
            "100/100 [==============================] - 9s 87ms/step - loss: 0.3003 - acc: 0.8777 - val_loss: 0.6163 - val_acc: 0.7250\n",
            "Epoch 16/30\n",
            "100/100 [==============================] - 9s 86ms/step - loss: 0.2807 - acc: 0.8835 - val_loss: 0.5309 - val_acc: 0.7400\n",
            "Epoch 17/30\n",
            "100/100 [==============================] - 9s 86ms/step - loss: 0.2742 - acc: 0.8888 - val_loss: 0.5883 - val_acc: 0.7500\n",
            "Epoch 18/30\n",
            "100/100 [==============================] - 9s 86ms/step - loss: 0.2440 - acc: 0.8990 - val_loss: 0.6206 - val_acc: 0.7100\n",
            "Epoch 19/30\n",
            "100/100 [==============================] - 9s 87ms/step - loss: 0.2348 - acc: 0.9030 - val_loss: 0.5394 - val_acc: 0.7550\n",
            "Epoch 20/30\n",
            "100/100 [==============================] - 9s 87ms/step - loss: 0.2113 - acc: 0.9188 - val_loss: 0.6336 - val_acc: 0.7150\n",
            "Epoch 21/30\n",
            "100/100 [==============================] - 9s 87ms/step - loss: 0.1968 - acc: 0.9348 - val_loss: 0.6776 - val_acc: 0.7050\n",
            "Epoch 22/30\n",
            "100/100 [==============================] - 9s 87ms/step - loss: 0.1773 - acc: 0.9433 - val_loss: 0.6989 - val_acc: 0.7050\n",
            "Epoch 23/30\n",
            "100/100 [==============================] - 9s 87ms/step - loss: 0.1548 - acc: 0.9451 - val_loss: 0.6595 - val_acc: 0.7600\n",
            "Epoch 24/30\n",
            "100/100 [==============================] - 9s 86ms/step - loss: 0.1426 - acc: 0.9502 - val_loss: 0.8263 - val_acc: 0.7250\n",
            "Epoch 25/30\n",
            "100/100 [==============================] - 9s 88ms/step - loss: 0.1274 - acc: 0.9558 - val_loss: 0.7661 - val_acc: 0.7400\n",
            "Epoch 26/30\n",
            "100/100 [==============================] - 9s 88ms/step - loss: 0.1171 - acc: 0.9635 - val_loss: 0.7569 - val_acc: 0.7650\n",
            "Epoch 27/30\n",
            "100/100 [==============================] - 9s 88ms/step - loss: 0.0926 - acc: 0.9712 - val_loss: 0.7898 - val_acc: 0.7350\n",
            "Epoch 28/30\n",
            "100/100 [==============================] - 9s 87ms/step - loss: 0.0997 - acc: 0.9669 - val_loss: 0.9752 - val_acc: 0.7250\n",
            "Epoch 29/30\n",
            "100/100 [==============================] - 9s 87ms/step - loss: 0.0667 - acc: 0.9766 - val_loss: 0.9312 - val_acc: 0.7000\n",
            "Epoch 30/30\n",
            "100/100 [==============================] - 9s 87ms/step - loss: 0.0681 - acc: 0.9762 - val_loss: 0.8844 - val_acc: 0.7200\n"
          ],
          "name": "stdout"
        }
      ]
    },
    {
      "cell_type": "code",
      "metadata": {
        "id": "MZaZ2HWZsNUi",
        "colab": {
          "base_uri": "https://localhost:8080/",
          "height": 545
        },
        "outputId": "c8591adb-1b08-4e3c-8c68-fa2ee5a06264"
      },
      "source": [
        "model.save('cats_and_dogs_small_1.h5')\n",
        "\n",
        "import matplotlib.pyplot as plt\n",
        "\n",
        "acc = history.history['acc']\n",
        "val_acc = history.history['val_acc']\n",
        "loss = history.history['loss']\n",
        "val_loss = history.history['val_loss']\n",
        "\n",
        "epochs = range(1, len(acc) + 1)\n",
        "\n",
        "plt.plot(epochs, acc, 'bo', label='Training acc')\n",
        "plt.plot(epochs, val_acc, 'b', label='Validation acc')\n",
        "plt.title('Training and validation accuracy')\n",
        "plt.legend()\n",
        "\n",
        "plt.figure()\n",
        "\n",
        "plt.plot(epochs, loss, 'bo', label='Training loss')\n",
        "plt.plot(epochs, val_loss, 'b', label='Validation loss')\n",
        "plt.title('Training and validation loss')\n",
        "plt.legend()\n",
        "\n",
        "plt.show()"
      ],
      "execution_count": 54,
      "outputs": [
        {
          "output_type": "display_data",
          "data": {
            "image/png": "[encoded data removed]",
            "text/plain": [
              "<Figure size 432x288 with 1 Axes>"
            ]
          },
          "metadata": {
            "tags": [],
            "needs_background": "light"
          }
        },
        {
          "output_type": "display_data",
          "data": {
            "image/png": "[encoded data removed]",
            "text/plain": [
              "<Figure size 432x288 with 1 Axes>"
            ]
          },
          "metadata": {
            "tags": [],
            "needs_background": "light"
          }
        }
      ]
    },
    {
      "cell_type": "markdown",
      "metadata": {
        "id": "XKZmXmBcq_8-"
      },
      "source": [
        "## Convolutional Networks with Dropout\n",
        "\n",
        "![alt text](https://camo.githubusercontent.com/ee6fa1073247cd2c3d241300caf110d7a7541bc5/68747470733a2f2f63646e2d696d616765732d312e6d656469756d2e636f6d2f6d61782f3830302f312a4972644a355067684439596f4f7956415137334d4a772e676966)\n",
        "\n",
        "Ref: https://github.com/mneha4/Training-Neural-Nets---Guidelines"
      ]
    },
    {
      "cell_type": "code",
      "metadata": {
        "id": "wu3cqeYQrDeN"
      },
      "source": [
        "model = models.Sequential()\n",
        "model.add(layers.Conv2D(32, (3, 3), activation='relu',\n",
        "input_shape=(150, 150, 3)))\n",
        "model.add(layers.MaxPooling2D((2, 2)))\n",
        "model.add(layers.Conv2D(64, (3, 3), activation='relu'))\n",
        "model.add(layers.MaxPooling2D((2, 2)))\n",
        "model.add(layers.Conv2D(128, (3, 3), activation='relu'))\n",
        "model.add(layers.MaxPooling2D((2, 2)))\n",
        "model.add(layers.Conv2D(128, (3, 3), activation='relu'))\n",
        "model.add(layers.MaxPooling2D((2, 2)))\n",
        "model.add(layers.Flatten())\n",
        "model.add(layers.Dropout(0.5))\n",
        "model.add(layers.Dense(512, activation='relu'))\n",
        "model.add(layers.Dense(1, activation='sigmoid'))\n",
        "\n",
        "model.compile(loss='binary_crossentropy',\n",
        "              optimizer=optimizers.RMSprop(lr=1e-4),\n",
        "              metrics=['acc'])"
      ],
      "execution_count": 55,
      "outputs": []
    },
    {
      "cell_type": "code",
      "metadata": {
        "id": "QSeLpvY0rH7F",
        "colab": {
          "base_uri": "https://localhost:8080/"
        },
        "outputId": "f74ec584-80e8-4e26-8a84-ee044599e935"
      },
      "source": [
        "\n",
        "train_datagen = ImageDataGenerator(rescale=1./255,\n",
        "                                   rotation_range=40,\n",
        "                                   width_shift_range=0.2,\n",
        "                                   height_shift_range=0.2,\n",
        "                                   shear_range=0.2,\n",
        "                                   zoom_range=0.2,\n",
        "                                   horizontal_flip=True,)\n",
        "\n",
        "test_datagen = ImageDataGenerator(rescale=1./255)\n",
        "\n",
        "train_generator = train_datagen.flow_from_directory(train_dir,\n",
        "                                                    target_size=(150, 150),\n",
        "                                                    batch_size=32,\n",
        "                                                    class_mode='binary')\n",
        "\n",
        "validation_generator = test_datagen.flow_from_directory(validation_dir,\n",
        "                                                        target_size=(150, 150),\n",
        "                                                        batch_size=32,\n",
        "                                                        class_mode='binary')\n",
        "\n",
        "history = model.fit_generator(train_generator,\n",
        "                              steps_per_epoch=100,\n",
        "                              epochs=20,\n",
        "                              validation_data=validation_generator,\n",
        "                              validation_steps=50)"
      ],
      "execution_count": 56,
      "outputs": [
        {
          "output_type": "stream",
          "text": [
            "Found 2000 images belonging to 2 classes.\n",
            "Found 1000 images belonging to 2 classes.\n"
          ],
          "name": "stdout"
        },
        {
          "output_type": "stream",
          "text": [
            "/usr/local/lib/python3.7/dist-packages/tensorflow/python/keras/engine/training.py:1844: UserWarning: `Model.fit_generator` is deprecated and will be removed in a future version. Please use `Model.fit`, which supports generators.\n",
            "  warnings.warn('`Model.fit_generator` is deprecated and '\n"
          ],
          "name": "stderr"
        },
        {
          "output_type": "stream",
          "text": [
            "Epoch 1/20\n",
            " 63/100 [=================>............] - ETA: 10s - loss: 0.6951 - acc: 0.4841WARNING:tensorflow:Your input ran out of data; interrupting training. Make sure that your dataset or generator can generate at least `steps_per_epoch * epochs` batches (in this case, 2000 batches). You may need to use the repeat() function when building your dataset.\n",
            "WARNING:tensorflow:Your input ran out of data; interrupting training. Make sure that your dataset or generator can generate at least `steps_per_epoch * epochs` batches (in this case, 50 batches). You may need to use the repeat() function when building your dataset.\n",
            "100/100 [==============================] - 22s 209ms/step - loss: 0.6946 - acc: 0.4871 - val_loss: 0.6865 - val_acc: 0.5010\n"
          ],
          "name": "stdout"
        }
      ]
    },
    {
      "cell_type": "markdown",
      "metadata": {
        "id": "BRdU5yrkUF_b"
      },
      "source": [
        "# Task 2:\n",
        "\n",
        "We have used Dropout to enhance the performance of the CNN model. Can you please use whatever you like to further enhance the performance from `val_acc: 0.7506`? "
      ]
    },
    {
      "cell_type": "code",
      "metadata": {
        "colab": {
          "base_uri": "https://localhost:8080/"
        },
        "id": "3PTZImKhwbvc",
        "outputId": "90509105-0ae3-4e68-caaf-64751dbcf353"
      },
      "source": [
        "train_datagen = ImageDataGenerator(rescale=1./255,\n",
        "                                   rotation_range=20,\n",
        "                                   width_shift_range=0.1,\n",
        "                                   height_shift_range=0.1,\n",
        "                                   shear_range=0.1,\n",
        "                                   zoom_range=0.1,\n",
        "                                   horizontal_flip=True,)\n",
        "\n",
        "test_datagen = ImageDataGenerator(rescale=1./255)\n",
        "\n",
        "train_generator = train_datagen.flow_from_directory(train_dir,\n",
        "                                                    target_size=(150, 150),\n",
        "                                                    batch_size=10,\n",
        "                                                    class_mode='binary')\n",
        "\n",
        "validation_generator = test_datagen.flow_from_directory(validation_dir,\n",
        "                                                        target_size=(150, 150),\n",
        "                                                        batch_size=10,\n",
        "                                                        class_mode='binary')"
      ],
      "execution_count": 61,
      "outputs": [
        {
          "output_type": "stream",
          "text": [
            "Found 2000 images belonging to 2 classes.\n",
            "Found 1000 images belonging to 2 classes.\n"
          ],
          "name": "stdout"
        }
      ]
    },
    {
      "cell_type": "code",
      "metadata": {
        "id": "fyc1VnNFwh9H"
      },
      "source": [
        "model = models.Sequential()\n",
        "model.add(layers.Conv2D(32, (3, 3), activation='relu',\n",
        "input_shape=(150, 150, 3)))\n",
        "model.add(layers.Activation('relu'))\n",
        "model.add(layers.MaxPooling2D((2, 2)))\n",
        "\n",
        "model.add(layers.Conv2D(64, (3, 3), activation='relu'))\n",
        "model.add(layers.MaxPooling2D((2, 2)))\n",
        "\n",
        "model.add(layers.Conv2D(128, (3, 3), activation='relu'))\n",
        "model.add(layers.MaxPooling2D((2, 2)))\n",
        "\n",
        "model.add(layers.Conv2D(256, (3, 3)))\n",
        "model.add(layers.BatchNormalization())\n",
        "model.add(layers.Activation('relu'))\n",
        "model.add(layers.MaxPooling2D((2, 2)))\n",
        "\n",
        "model.add(layers.Flatten())\n",
        "\n",
        "model.add(layers.Dropout(0.5))\n",
        "model.add(layers.Dense(512, activation='relu'))\n",
        "\n",
        "model.add(layers.Dense(1, activation='sigmoid'))\n",
        "\n",
        "model.compile(loss='binary_crossentropy',\n",
        "              optimizer='adam',\n",
        "              metrics=['accuracy'])"
      ],
      "execution_count": 63,
      "outputs": []
    },
    {
      "cell_type": "code",
      "metadata": {
        "colab": {
          "base_uri": "https://localhost:8080/"
        },
        "id": "hhtAHoNEwpYV",
        "outputId": "8e9d32cb-be00-4103-d032-86f8a6fbcf21"
      },
      "source": [
        "import keras \n",
        "\n",
        "checkpoint = keras.callbacks.ModelCheckpoint('models/best_cat_dog.h5', \n",
        "                                             monitor='val_accuracy', \n",
        "                                             verbose=1, \n",
        "                                             save_best_only=True, \n",
        "                                             mode='max')\n",
        "\n",
        "history = model.fit(train_generator,\n",
        "                              # steps_per_epoch=100,\n",
        "                              epochs=50,\n",
        "                              validation_data=validation_generator,\n",
        "                              callbacks=[checkpoint])"
      ],
      "execution_count": 64,
      "outputs": [
        {
          "output_type": "stream",
          "text": [
            "Epoch 1/50\n",
            "200/200 [==============================] - 24s 113ms/step - loss: 1.3686 - accuracy: 0.5538 - val_loss: 0.6900 - val_accuracy: 0.5040\n",
            "\n",
            "Epoch 00001: val_accuracy improved from -inf to 0.50400, saving model to models/best_cat_dog.h5\n",
            "Epoch 2/50\n",
            "200/200 [==============================] - 22s 112ms/step - loss: 0.6812 - accuracy: 0.5810 - val_loss: 0.7607 - val_accuracy: 0.5000\n",
            "\n",
            "Epoch 00002: val_accuracy did not improve from 0.50400\n",
            "Epoch 3/50\n",
            "200/200 [==============================] - 22s 112ms/step - loss: 0.6706 - accuracy: 0.6166 - val_loss: 1.0441 - val_accuracy: 0.5000\n",
            "\n",
            "Epoch 00003: val_accuracy did not improve from 0.50400\n",
            "Epoch 4/50\n",
            "200/200 [==============================] - 22s 112ms/step - loss: 0.6673 - accuracy: 0.5727 - val_loss: 1.4477 - val_accuracy: 0.5030\n",
            "\n",
            "Epoch 00004: val_accuracy did not improve from 0.50400\n",
            "Epoch 5/50\n",
            "200/200 [==============================] - 22s 112ms/step - loss: 0.6355 - accuracy: 0.6188 - val_loss: 0.7681 - val_accuracy: 0.5320\n",
            "\n",
            "Epoch 00005: val_accuracy improved from 0.50400 to 0.53200, saving model to models/best_cat_dog.h5\n",
            "Epoch 6/50\n",
            "200/200 [==============================] - 22s 112ms/step - loss: 0.6060 - accuracy: 0.6523 - val_loss: 0.6478 - val_accuracy: 0.6400\n",
            "\n",
            "Epoch 00006: val_accuracy improved from 0.53200 to 0.64000, saving model to models/best_cat_dog.h5\n",
            "Epoch 7/50\n",
            "200/200 [==============================] - 22s 112ms/step - loss: 0.6257 - accuracy: 0.6404 - val_loss: 0.6849 - val_accuracy: 0.5200\n",
            "\n",
            "Epoch 00007: val_accuracy did not improve from 0.64000\n",
            "Epoch 8/50\n",
            "200/200 [==============================] - 22s 112ms/step - loss: 0.6253 - accuracy: 0.6450 - val_loss: 0.6135 - val_accuracy: 0.6700\n",
            "\n",
            "Epoch 00008: val_accuracy improved from 0.64000 to 0.67000, saving model to models/best_cat_dog.h5\n",
            "Epoch 9/50\n",
            "200/200 [==============================] - 23s 112ms/step - loss: 0.5837 - accuracy: 0.6866 - val_loss: 0.5946 - val_accuracy: 0.6960\n",
            "\n",
            "Epoch 00009: val_accuracy improved from 0.67000 to 0.69600, saving model to models/best_cat_dog.h5\n",
            "Epoch 10/50\n",
            "200/200 [==============================] - 22s 112ms/step - loss: 0.5692 - accuracy: 0.6962 - val_loss: 0.6101 - val_accuracy: 0.6880\n",
            "\n",
            "Epoch 00010: val_accuracy did not improve from 0.69600\n",
            "Epoch 11/50\n",
            "200/200 [==============================] - 22s 112ms/step - loss: 0.5545 - accuracy: 0.7102 - val_loss: 0.8250 - val_accuracy: 0.5620\n",
            "\n",
            "Epoch 00011: val_accuracy did not improve from 0.69600\n",
            "Epoch 12/50\n",
            "200/200 [==============================] - 22s 112ms/step - loss: 0.5809 - accuracy: 0.7006 - val_loss: 0.6056 - val_accuracy: 0.6230\n",
            "\n",
            "Epoch 00012: val_accuracy did not improve from 0.69600\n",
            "Epoch 13/50\n",
            "200/200 [==============================] - 22s 112ms/step - loss: 0.5582 - accuracy: 0.7146 - val_loss: 0.6029 - val_accuracy: 0.7110\n",
            "\n",
            "Epoch 00013: val_accuracy improved from 0.69600 to 0.71100, saving model to models/best_cat_dog.h5\n",
            "Epoch 14/50\n",
            "200/200 [==============================] - 23s 113ms/step - loss: 0.5542 - accuracy: 0.7267 - val_loss: 0.5382 - val_accuracy: 0.7140\n",
            "\n",
            "Epoch 00014: val_accuracy improved from 0.71100 to 0.71400, saving model to models/best_cat_dog.h5\n",
            "Epoch 15/50\n",
            "200/200 [==============================] - 23s 113ms/step - loss: 0.5223 - accuracy: 0.7263 - val_loss: 0.5150 - val_accuracy: 0.7470\n",
            "\n",
            "Epoch 00015: val_accuracy improved from 0.71400 to 0.74700, saving model to models/best_cat_dog.h5\n",
            "Epoch 16/50\n",
            "200/200 [==============================] - 23s 113ms/step - loss: 0.5230 - accuracy: 0.7279 - val_loss: 0.5240 - val_accuracy: 0.7340\n",
            "\n",
            "Epoch 00016: val_accuracy did not improve from 0.74700\n",
            "Epoch 17/50\n",
            "200/200 [==============================] - 23s 113ms/step - loss: 0.4834 - accuracy: 0.7570 - val_loss: 0.5261 - val_accuracy: 0.7260\n",
            "\n",
            "Epoch 00017: val_accuracy did not improve from 0.74700\n",
            "Epoch 18/50\n",
            "200/200 [==============================] - 23s 113ms/step - loss: 0.5059 - accuracy: 0.7488 - val_loss: 0.6143 - val_accuracy: 0.6800\n",
            "\n",
            "Epoch 00018: val_accuracy did not improve from 0.74700\n",
            "Epoch 19/50\n",
            "200/200 [==============================] - 22s 112ms/step - loss: 0.4972 - accuracy: 0.7578 - val_loss: 0.4972 - val_accuracy: 0.7660\n",
            "\n",
            "Epoch 00019: val_accuracy improved from 0.74700 to 0.76600, saving model to models/best_cat_dog.h5\n",
            "Epoch 20/50\n",
            "200/200 [==============================] - 23s 113ms/step - loss: 0.4897 - accuracy: 0.7609 - val_loss: 0.5711 - val_accuracy: 0.7200\n",
            "\n",
            "Epoch 00020: val_accuracy did not improve from 0.76600\n",
            "Epoch 21/50\n",
            "200/200 [==============================] - 23s 113ms/step - loss: 0.4963 - accuracy: 0.7597 - val_loss: 0.5300 - val_accuracy: 0.7360\n",
            "\n",
            "Epoch 00021: val_accuracy did not improve from 0.76600\n",
            "Epoch 22/50\n",
            "200/200 [==============================] - 22s 112ms/step - loss: 0.4601 - accuracy: 0.7751 - val_loss: 0.5899 - val_accuracy: 0.7430\n",
            "\n",
            "Epoch 00022: val_accuracy did not improve from 0.76600\n",
            "Epoch 23/50\n",
            "200/200 [==============================] - 22s 112ms/step - loss: 0.4579 - accuracy: 0.7915 - val_loss: 0.4564 - val_accuracy: 0.7750\n",
            "\n",
            "Epoch 00023: val_accuracy improved from 0.76600 to 0.77500, saving model to models/best_cat_dog.h5\n",
            "Epoch 24/50\n",
            "200/200 [==============================] - 23s 113ms/step - loss: 0.4552 - accuracy: 0.7794 - val_loss: 0.6176 - val_accuracy: 0.7400\n",
            "\n",
            "Epoch 00024: val_accuracy did not improve from 0.77500\n",
            "Epoch 25/50\n",
            "200/200 [==============================] - 22s 112ms/step - loss: 0.4612 - accuracy: 0.7840 - val_loss: 0.5143 - val_accuracy: 0.7840\n",
            "\n",
            "Epoch 00025: val_accuracy improved from 0.77500 to 0.78400, saving model to models/best_cat_dog.h5\n",
            "Epoch 26/50\n",
            "200/200 [==============================] - 23s 113ms/step - loss: 0.4565 - accuracy: 0.7902 - val_loss: 0.5397 - val_accuracy: 0.7390\n",
            "\n",
            "Epoch 00026: val_accuracy did not improve from 0.78400\n",
            "Epoch 27/50\n",
            "200/200 [==============================] - 23s 113ms/step - loss: 0.4413 - accuracy: 0.8004 - val_loss: 0.6907 - val_accuracy: 0.6850\n",
            "\n",
            "Epoch 00027: val_accuracy did not improve from 0.78400\n",
            "Epoch 28/50\n",
            "200/200 [==============================] - 23s 113ms/step - loss: 0.4509 - accuracy: 0.7955 - val_loss: 0.5212 - val_accuracy: 0.7690\n",
            "\n",
            "Epoch 00028: val_accuracy did not improve from 0.78400\n",
            "Epoch 29/50\n",
            "200/200 [==============================] - 23s 113ms/step - loss: 0.4209 - accuracy: 0.8137 - val_loss: 0.4813 - val_accuracy: 0.7980\n",
            "\n",
            "Epoch 00029: val_accuracy improved from 0.78400 to 0.79800, saving model to models/best_cat_dog.h5\n",
            "Epoch 30/50\n",
            "200/200 [==============================] - 23s 113ms/step - loss: 0.4338 - accuracy: 0.7855 - val_loss: 0.4658 - val_accuracy: 0.7810\n",
            "\n",
            "Epoch 00030: val_accuracy did not improve from 0.79800\n",
            "Epoch 31/50\n",
            "200/200 [==============================] - 23s 113ms/step - loss: 0.4347 - accuracy: 0.8040 - val_loss: 0.6387 - val_accuracy: 0.7100\n",
            "\n",
            "Epoch 00031: val_accuracy did not improve from 0.79800\n",
            "Epoch 32/50\n",
            "200/200 [==============================] - 23s 113ms/step - loss: 0.4020 - accuracy: 0.8185 - val_loss: 0.4694 - val_accuracy: 0.8030\n",
            "\n",
            "Epoch 00032: val_accuracy improved from 0.79800 to 0.80300, saving model to models/best_cat_dog.h5\n",
            "Epoch 33/50\n",
            "200/200 [==============================] - 23s 113ms/step - loss: 0.4210 - accuracy: 0.8106 - val_loss: 0.4268 - val_accuracy: 0.8080\n",
            "\n",
            "Epoch 00033: val_accuracy improved from 0.80300 to 0.80800, saving model to models/best_cat_dog.h5\n",
            "Epoch 34/50\n",
            "200/200 [==============================] - 23s 114ms/step - loss: 0.4087 - accuracy: 0.8012 - val_loss: 0.5797 - val_accuracy: 0.7000\n",
            "\n",
            "Epoch 00034: val_accuracy did not improve from 0.80800\n",
            "Epoch 35/50\n",
            "200/200 [==============================] - 23s 113ms/step - loss: 0.4130 - accuracy: 0.8165 - val_loss: 0.4752 - val_accuracy: 0.7860\n",
            "\n",
            "Epoch 00035: val_accuracy did not improve from 0.80800\n",
            "Epoch 36/50\n",
            "200/200 [==============================] - 23s 113ms/step - loss: 0.3957 - accuracy: 0.8229 - val_loss: 0.3929 - val_accuracy: 0.8160\n",
            "\n",
            "Epoch 00036: val_accuracy improved from 0.80800 to 0.81600, saving model to models/best_cat_dog.h5\n",
            "Epoch 37/50\n",
            "200/200 [==============================] - 23s 113ms/step - loss: 0.3884 - accuracy: 0.8189 - val_loss: 0.6928 - val_accuracy: 0.7020\n",
            "\n",
            "Epoch 00037: val_accuracy did not improve from 0.81600\n",
            "Epoch 38/50\n",
            "200/200 [==============================] - 23s 113ms/step - loss: 0.3910 - accuracy: 0.8270 - val_loss: 0.4686 - val_accuracy: 0.7950\n",
            "\n",
            "Epoch 00038: val_accuracy did not improve from 0.81600\n",
            "Epoch 39/50\n",
            "200/200 [==============================] - 23s 114ms/step - loss: 0.3868 - accuracy: 0.8349 - val_loss: 0.5870 - val_accuracy: 0.7410\n",
            "\n",
            "Epoch 00039: val_accuracy did not improve from 0.81600\n",
            "Epoch 40/50\n",
            "200/200 [==============================] - 23s 113ms/step - loss: 0.4060 - accuracy: 0.8169 - val_loss: 0.4965 - val_accuracy: 0.7590\n",
            "\n",
            "Epoch 00040: val_accuracy did not improve from 0.81600\n",
            "Epoch 41/50\n",
            "200/200 [==============================] - 23s 113ms/step - loss: 0.3829 - accuracy: 0.8314 - val_loss: 0.5048 - val_accuracy: 0.7550\n",
            "\n",
            "Epoch 00041: val_accuracy did not improve from 0.81600\n",
            "Epoch 42/50\n",
            "200/200 [==============================] - 23s 113ms/step - loss: 0.3549 - accuracy: 0.8606 - val_loss: 0.5180 - val_accuracy: 0.7550\n",
            "\n",
            "Epoch 00042: val_accuracy did not improve from 0.81600\n",
            "Epoch 43/50\n",
            "200/200 [==============================] - 23s 113ms/step - loss: 0.3656 - accuracy: 0.8526 - val_loss: 0.4488 - val_accuracy: 0.8110\n",
            "\n",
            "Epoch 00043: val_accuracy did not improve from 0.81600\n",
            "Epoch 44/50\n",
            "200/200 [==============================] - 23s 113ms/step - loss: 0.3646 - accuracy: 0.8547 - val_loss: 0.3725 - val_accuracy: 0.8290\n",
            "\n",
            "Epoch 00044: val_accuracy improved from 0.81600 to 0.82900, saving model to models/best_cat_dog.h5\n",
            "Epoch 45/50\n",
            "200/200 [==============================] - 23s 114ms/step - loss: 0.3362 - accuracy: 0.8502 - val_loss: 0.4192 - val_accuracy: 0.8100\n",
            "\n",
            "Epoch 00045: val_accuracy did not improve from 0.82900\n",
            "Epoch 46/50\n",
            "200/200 [==============================] - 23s 113ms/step - loss: 0.3311 - accuracy: 0.8511 - val_loss: 0.5582 - val_accuracy: 0.7340\n",
            "\n",
            "Epoch 00046: val_accuracy did not improve from 0.82900\n",
            "Epoch 47/50\n",
            "200/200 [==============================] - 23s 114ms/step - loss: 0.3381 - accuracy: 0.8557 - val_loss: 0.4695 - val_accuracy: 0.7890\n",
            "\n",
            "Epoch 00047: val_accuracy did not improve from 0.82900\n",
            "Epoch 48/50\n",
            "200/200 [==============================] - 23s 113ms/step - loss: 0.3178 - accuracy: 0.8580 - val_loss: 0.4333 - val_accuracy: 0.8000\n",
            "\n",
            "Epoch 00048: val_accuracy did not improve from 0.82900\n",
            "Epoch 49/50\n",
            "200/200 [==============================] - 23s 113ms/step - loss: 0.3342 - accuracy: 0.8475 - val_loss: 0.3796 - val_accuracy: 0.8410\n",
            "\n",
            "Epoch 00049: val_accuracy improved from 0.82900 to 0.84100, saving model to models/best_cat_dog.h5\n",
            "Epoch 50/50\n",
            "200/200 [==============================] - 23s 114ms/step - loss: 0.3006 - accuracy: 0.8759 - val_loss: 0.3875 - val_accuracy: 0.8250\n",
            "\n",
            "Epoch 00050: val_accuracy did not improve from 0.84100\n"
          ],
          "name": "stdout"
        }
      ]
    }
  ]
}