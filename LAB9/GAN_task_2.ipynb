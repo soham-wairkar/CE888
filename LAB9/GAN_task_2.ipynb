{
  "nbformat": 4,
  "nbformat_minor": 0,
  "metadata": {
    "colab": {
      "name": "GAN_task_2.ipynb",
      "provenance": [],
      "collapsed_sections": [],
      "authorship_tag": "ABX9TyNw4UNt7vJPPLE5+Yiof2G8",
      "include_colab_link": true
    },
    "kernelspec": {
      "name": "python3",
      "display_name": "Python 3"
    },
    "language_info": {
      "name": "python"
    }
  },
  "cells": [
    {
      "cell_type": "markdown",
      "metadata": {
        "id": "view-in-github",
        "colab_type": "text"
      },
      "source": [
        "<a href=\"https://colab.research.google.com/github/soham-wairkar/CE888/blob/main/LAB9/GAN_task_2.ipynb\" target=\"_parent\"><img src=\"https://colab.research.google.com/assets/colab-badge.svg\" alt=\"Open In Colab\"/></a>"
      ]
    },
    {
      "cell_type": "code",
      "metadata": {
        "id": "GAzWUfM1pLEP"
      },
      "source": [
        "import keras\n",
        "from keras import layers\n",
        "import numpy as np"
      ],
      "execution_count": 1,
      "outputs": []
    },
    {
      "cell_type": "code",
      "metadata": {
        "colab": {
          "base_uri": "https://localhost:8080/"
        },
        "id": "k6JpeYZqpc04",
        "outputId": "6a64bc2e-f2fc-463e-e7ba-c0964af987ab"
      },
      "source": [
        "latent_dim = 32\n",
        "height = 32\n",
        "width = 32\n",
        "channels = 3\n",
        "\n",
        "generator_input = keras.Input(shape=(latent_dim,))\n",
        "\n",
        "# Transforms the input into a 16 × 16 128-channel feature map\n",
        "s = layers.Dense(128 * 16 * 16)(generator_input)\n",
        "s = layers.LeakyReLU()(s)\n",
        "s = layers.Reshape((16, 16, 128))(s)\n",
        "\n",
        "s = layers.Conv2D(256, 5, padding='same')(s)\n",
        "s = layers.LeakyReLU()(s)\n",
        "\n",
        "# Upsamples to 32 × 32\n",
        "s = layers.Conv2DTranspose(256, 4, strides=2, padding='same')(s)\n",
        "s = layers.LeakyReLU()(s)\n",
        "\n",
        "s = layers.Conv2D(256, 5, padding='same')(s)\n",
        "s = layers.LeakyReLU()(s)\n",
        "s = layers.Conv2D(256, 5, padding='same')(s)\n",
        "s = layers.LeakyReLU()(s)\n",
        "\n",
        "# Produces a 32 × 32 1-channel feature map (shape of a CIFAR10 image)\n",
        "s = layers.Conv2D(channels, 7, activation='tanh', padding='same')(s)\n",
        "\n",
        "# Instantiates the generator model, which maps the input of shape (latent_dim,) \n",
        "#into an image of shape (32, 32, 3)\n",
        "generator = keras.models.Model(generator_input, s)\n",
        "generator.summary()"
      ],
      "execution_count": 2,
      "outputs": [
        {
          "output_type": "stream",
          "text": [
            "Model: \"model\"\n",
            "_________________________________________________________________\n",
            "Layer (type)                 Output Shape              Param #   \n",
            "=================================================================\n",
            "input_1 (InputLayer)         [(None, 32)]              0         \n",
            "_________________________________________________________________\n",
            "dense (Dense)                (None, 32768)             1081344   \n",
            "_________________________________________________________________\n",
            "leaky_re_lu (LeakyReLU)      (None, 32768)             0         \n",
            "_________________________________________________________________\n",
            "reshape (Reshape)            (None, 16, 16, 128)       0         \n",
            "_________________________________________________________________\n",
            "conv2d (Conv2D)              (None, 16, 16, 256)       819456    \n",
            "_________________________________________________________________\n",
            "leaky_re_lu_1 (LeakyReLU)    (None, 16, 16, 256)       0         \n",
            "_________________________________________________________________\n",
            "conv2d_transpose (Conv2DTran (None, 32, 32, 256)       1048832   \n",
            "_________________________________________________________________\n",
            "leaky_re_lu_2 (LeakyReLU)    (None, 32, 32, 256)       0         \n",
            "_________________________________________________________________\n",
            "conv2d_1 (Conv2D)            (None, 32, 32, 256)       1638656   \n",
            "_________________________________________________________________\n",
            "leaky_re_lu_3 (LeakyReLU)    (None, 32, 32, 256)       0         \n",
            "_________________________________________________________________\n",
            "conv2d_2 (Conv2D)            (None, 32, 32, 256)       1638656   \n",
            "_________________________________________________________________\n",
            "leaky_re_lu_4 (LeakyReLU)    (None, 32, 32, 256)       0         \n",
            "_________________________________________________________________\n",
            "conv2d_3 (Conv2D)            (None, 32, 32, 3)         37635     \n",
            "=================================================================\n",
            "Total params: 6,264,579\n",
            "Trainable params: 6,264,579\n",
            "Non-trainable params: 0\n",
            "_________________________________________________________________\n"
          ],
          "name": "stdout"
        }
      ]
    },
    {
      "cell_type": "code",
      "metadata": {
        "colab": {
          "base_uri": "https://localhost:8080/"
        },
        "id": "CgPLeAnzpc3I",
        "outputId": "07726dc7-8831-43b6-a219-71d76b7a3ecb"
      },
      "source": [
        "#gan disc network\n",
        "\n",
        "discriminator_input = layers.Input(shape=(height, width, channels))\n",
        "\n",
        "s = layers.Conv2D(128, 3)(discriminator_input)\n",
        "s = layers.LeakyReLU()(s)\n",
        "s = layers.Conv2D(128, 4, strides=2)(s)\n",
        "s = layers.LeakyReLU()(s)\n",
        "s = layers.Conv2D(128, 4, strides=2)(s)\n",
        "s = layers.LeakyReLU()(s)\n",
        "s = layers.Conv2D(128, 4, strides=2)(s)\n",
        "s = layers.LeakyReLU()(s)\n",
        "s = layers.Flatten()(s)\n",
        "\n",
        "# One dropout layer: an important trick\n",
        "s = layers.Dropout(0.4)(s)\n",
        "\n",
        "# Classification layer\n",
        "s = layers.Dense(1, activation='sigmoid')(s)\n",
        "\n",
        "#Instantiates the discriminator model, which turns a (32, 32, 3) input into a binary \n",
        "#classification decision (fake/real)\n",
        "discriminator = keras.models.Model(discriminator_input, s)\n",
        "discriminator.summary()\n",
        "\n",
        "# Uses gradient clipping (by value) in the optimizer and To stabilize training, \n",
        "# uses learning-rate decay\n",
        "discriminator_optimizer = keras.optimizers.RMSprop(lr=0.0008,clipvalue=1.0,decay=1e-8)\n",
        "discriminator.compile(optimizer=discriminator_optimizer,loss='binary_crossentropy')"
      ],
      "execution_count": 3,
      "outputs": [
        {
          "output_type": "stream",
          "text": [
            "Model: \"model_1\"\n",
            "_________________________________________________________________\n",
            "Layer (type)                 Output Shape              Param #   \n",
            "=================================================================\n",
            "input_2 (InputLayer)         [(None, 32, 32, 3)]       0         \n",
            "_________________________________________________________________\n",
            "conv2d_4 (Conv2D)            (None, 30, 30, 128)       3584      \n",
            "_________________________________________________________________\n",
            "leaky_re_lu_5 (LeakyReLU)    (None, 30, 30, 128)       0         \n",
            "_________________________________________________________________\n",
            "conv2d_5 (Conv2D)            (None, 14, 14, 128)       262272    \n",
            "_________________________________________________________________\n",
            "leaky_re_lu_6 (LeakyReLU)    (None, 14, 14, 128)       0         \n",
            "_________________________________________________________________\n",
            "conv2d_6 (Conv2D)            (None, 6, 6, 128)         262272    \n",
            "_________________________________________________________________\n",
            "leaky_re_lu_7 (LeakyReLU)    (None, 6, 6, 128)         0         \n",
            "_________________________________________________________________\n",
            "conv2d_7 (Conv2D)            (None, 2, 2, 128)         262272    \n",
            "_________________________________________________________________\n",
            "leaky_re_lu_8 (LeakyReLU)    (None, 2, 2, 128)         0         \n",
            "_________________________________________________________________\n",
            "flatten (Flatten)            (None, 512)               0         \n",
            "_________________________________________________________________\n",
            "dropout (Dropout)            (None, 512)               0         \n",
            "_________________________________________________________________\n",
            "dense_1 (Dense)              (None, 1)                 513       \n",
            "=================================================================\n",
            "Total params: 790,913\n",
            "Trainable params: 790,913\n",
            "Non-trainable params: 0\n",
            "_________________________________________________________________\n"
          ],
          "name": "stdout"
        }
      ]
    },
    {
      "cell_type": "code",
      "metadata": {
        "id": "00vbepNqpc48"
      },
      "source": [
        "#adversial network\n",
        "# Sets discriminator weights to non-trainable (this will only apply to the gan model)\n",
        "discriminator.trainable = False\n",
        "\n",
        "gan_input = keras.Input(shape=(latent_dim,))\n",
        "gan_output = discriminator(generator(gan_input))\n",
        "gan = keras.models.Model(gan_input, gan_output)\n",
        "\n",
        "gan_optimizer = keras.optimizers.RMSprop(lr=0.0004, clipvalue=1.0, decay=1e-8)\n",
        "gan.compile(optimizer=gan_optimizer, loss='binary_crossentropy')"
      ],
      "execution_count": 5,
      "outputs": []
    },
    {
      "cell_type": "code",
      "metadata": {
        "colab": {
          "base_uri": "https://localhost:8080/"
        },
        "id": "76ZMQlmHpc7T",
        "outputId": "75bbed86-a552-4e2f-853d-6f54ea8576f5"
      },
      "source": [
        "gan.summary()\n"
      ],
      "execution_count": 6,
      "outputs": [
        {
          "output_type": "stream",
          "text": [
            "Model: \"model_2\"\n",
            "_________________________________________________________________\n",
            "Layer (type)                 Output Shape              Param #   \n",
            "=================================================================\n",
            "input_3 (InputLayer)         [(None, 32)]              0         \n",
            "_________________________________________________________________\n",
            "model (Functional)           (None, 32, 32, 3)         6264579   \n",
            "_________________________________________________________________\n",
            "model_1 (Functional)         (None, 1)                 790913    \n",
            "=================================================================\n",
            "Total params: 7,055,492\n",
            "Trainable params: 6,264,579\n",
            "Non-trainable params: 790,913\n",
            "_________________________________________________________________\n"
          ],
          "name": "stdout"
        }
      ]
    },
    {
      "cell_type": "code",
      "metadata": {
        "colab": {
          "base_uri": "https://localhost:8080/"
        },
        "id": "MbM9usOxpc9f",
        "outputId": "ffa72a53-60d0-4e53-c0af-95147dcf0b00"
      },
      "source": [
        "import os\n",
        "from keras.preprocessing import image\n",
        "os.mkdir('GAN')\n",
        "\n",
        "# Loads CIFAR10 data\n",
        "(x_train, y_train), (_, _) = keras.datasets.cifar10.load_data()\n",
        "\n",
        "# Selects frog images (class 6)\n",
        "x_train = x_train[y_train.flatten() == 6]\n",
        "\n",
        "x_train = x_train.reshape(\n",
        "    (x_train.shape[0],) +\n",
        "    (height, width, channels)).astype('float32') / 255.\n",
        "\n",
        "iterations = 10000\n",
        "batch_size = 20\n",
        "save_dir = '/content/GAN'# Specifies where you want to save generated images\n",
        "\n",
        "start = 0\n",
        "# Samples random points in the latent space\n",
        "for step in range(iterations):\n",
        "    random_latent_vectors = np.random.normal(size=(batch_size, latent_dim))\n",
        "\n",
        "# Decodes them to fake images    \n",
        "generated_images = generator.predict(random_latent_vectors)\n",
        "\n",
        "# Combines them with real images \n",
        "stop = start + batch_size\n",
        "real_images = x_train[start: stop]\n",
        "combined_images = np.concatenate([generated_images, real_images])\n",
        "\n",
        "labels = np.concatenate([np.ones((batch_size, 1)), np.zeros((batch_size, 1))])\n",
        "labels += 0.05 * np.random.random(labels.shape)\n",
        "\n",
        "# Trains the discriminator\n",
        "d_loss = discriminator.train_on_batch(combined_images, labels)\n",
        "\n",
        "# Samples random points in the latent space\n",
        "random_latent_vectors = np.random.normal(size=(batch_size,latent_dim))\n",
        "\n",
        "# Assembles latent space labels that say “these are all real images” (it’s a lie!)\n",
        "misleading_targets = np.zeros((batch_size, 1))\n",
        "\n",
        "# Trains the generator (via the gan model, where the discriminator weights are frozen)\n",
        "a_loss = gan.train_on_batch(random_latent_vectors, misleading_targets)\n",
        "\n",
        "start += batch_size\n",
        "if start > len(x_train) - batch_size: \n",
        "    start = 0\n",
        "    \n",
        "if step % 100 == 0: \n",
        "    gan.save_weights('gan.h5')\n",
        "    \n",
        "print('discriminator loss:', d_loss)\n",
        "print('adversarial loss:', a_loss)\n",
        "\n",
        "img = image.array_to_img(generated_images[0] * 255., scale=False)\n",
        "img.save(os.path.join(save_dir,\n",
        "                      'generated_frog' + str(step) + '.png'))\n",
        "\n",
        "img = image.array_to_img(real_images[0] * 255., scale=False)\n",
        "img.save(os.path.join(save_dir,\n",
        "                      'real_frog' + str(step) + '.png'))"
      ],
      "execution_count": 7,
      "outputs": [
        {
          "output_type": "stream",
          "text": [
            "Downloading data from https://www.cs.toronto.edu/~kriz/cifar-10-python.tar.gz\n",
            "170500096/170498071 [==============================] - 4s 0us/step\n",
            "discriminator loss: 0.6945282220840454\n",
            "adversarial loss: 0.6940848231315613\n"
          ],
          "name": "stdout"
        }
      ]
    },
    {
      "cell_type": "code",
      "metadata": {
        "colab": {
          "base_uri": "https://localhost:8080/",
          "height": 233
        },
        "id": "-ts_7Xf4pdAE",
        "outputId": "68f0057a-4ae4-4002-be60-ccb5123a1264"
      },
      "source": [
        "import matplotlib.pyplot as plt\n",
        "\n",
        "generated_frog = plt.imread('./GAN/generated_frog9999.png')\n",
        "real_frog = plt.imread('./GAN/real_frog9999.png')\n",
        "\n",
        "plt.subplot(1,2,1)\n",
        "plt.imshow(generated_frog)\n",
        "plt.title('Generated Frog')\n",
        "\n",
        "plt.subplot(1,2,2)\n",
        "plt.imshow(real_frog)\n",
        "plt.title('Real Frog')"
      ],
      "execution_count": 8,
      "outputs": [
        {
          "output_type": "execute_result",
          "data": {
            "text/plain": [
              "Text(0.5, 1.0, 'Real Frog')"
            ]
          },
          "metadata": {
            "tags": []
          },
          "execution_count": 8
        },
        {
          "output_type": "display_data",
          "data": {
            "image/png": "[encoded data removed]",
            "text/plain": [
              "<Figure size 432x288 with 2 Axes>"
            ]
          },
          "metadata": {
            "tags": [],
            "needs_background": "light"
          }
        }
      ]
    },
    {
      "cell_type": "code",
      "metadata": {
        "id": "M_SVJFoZpdCV"
      },
      "source": [
        ""
      ],
      "execution_count": null,
      "outputs": []
    },
    {
      "cell_type": "code",
      "metadata": {
        "id": "MGhKbGrupdEd"
      },
      "source": [
        ""
      ],
      "execution_count": null,
      "outputs": []
    },
    {
      "cell_type": "code",
      "metadata": {
        "id": "7Q9ULD-HpdGh"
      },
      "source": [
        ""
      ],
      "execution_count": null,
      "outputs": []
    },
    {
      "cell_type": "code",
      "metadata": {
        "id": "hmdLnpRrpdKO"
      },
      "source": [
        ""
      ],
      "execution_count": null,
      "outputs": []
    }
  ]
}